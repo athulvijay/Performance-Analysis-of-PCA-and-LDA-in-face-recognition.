{
 "cells": [
  {
   "cell_type": "code",
   "execution_count": 1,
   "metadata": {},
   "outputs": [],
   "source": [
    "from sklearn.metrics.pairwise import euclidean_distances\n",
    "import cv2\n",
    "import numpy as np\n",
    "from os import listdir\n",
    "from os.path import isfile, join\n",
    "from sklearn.metrics import accuracy_score"
   ]
  },
  {
   "cell_type": "code",
   "execution_count": 2,
   "metadata": {},
   "outputs": [
    {
     "name": "stdout",
     "output_type": "stream",
     "text": [
      "[ 1  1  1  1  1  1  2  2  2  2  2  2  3  3  3  3  3  3  4  4  4  4  4  4\n",
      "  5  5  5  5  5  5  6  6  6  6  6  6  7  7  7  7  7  7  8  8  8  8  8  8\n",
      "  9  9  9  9  9  9 10 10 10 10 10 10]\n",
      "[[ 60  60  62 ...  32  34  34]\n",
      " [ 39  44  53 ...  29  26  29]\n",
      " [ 63  53  35 ...  41  10  24]\n",
      " ...\n",
      " [106 105 106 ...  32  31  28]\n",
      " [111 110 111 ...  35  40  29]\n",
      " [105 104 104 ...  43  41  24]]\n",
      "[[ 48  49  45 ...  47  46  46]\n",
      " [ 48  46  49 ...  31  31  36]\n",
      " [ 48  45  45 ...  28  37  29]\n",
      " ...\n",
      " [ 30  37  35 ...  26  27  32]\n",
      " [ 37  34  38 ... 135 143 133]\n",
      " [ 50  46  49 ...  33  33  41]]\n"
     ]
    }
   ],
   "source": [
    "image=[]\n",
    "\n",
    "x_test =[]\n",
    "\n",
    "y_train =[]\n",
    "k=0\n",
    "for i in range (1,12):\n",
    "    if i==11:\n",
    "        mypath =\"C:/Users/ATHUL VIJAY M P/Desktop/Pattern/simulation3/dataset/test/\"\n",
    "    else:\n",
    "        mypath =\"C:/Users/ATHUL VIJAY M P/Desktop/Pattern/simulation3/dataset/training/s\"+str(i)+\"/\"\n",
    "    onlyfiles = [f for f in listdir(mypath) if isfile(join(mypath, f))]\n",
    "    for j in range(len(onlyfiles)):\n",
    "        s=str(mypath)+str(onlyfiles[j])\n",
    "        img= cv2.imread(s)\n",
    "        gray = cv2.cvtColor(img, cv2.COLOR_BGR2GRAY)\n",
    "        image.append(gray)\n",
    "        ravel_img=np.ravel(image[k])  \n",
    "        k +=1\n",
    "        if i==11:\n",
    "            x_test.append(ravel_img)\n",
    "        else:            \n",
    "            y_train.append(np.hstack((ravel_img,i)))\n",
    "y_train=np.asarray(y_train)\n",
    "Y_train=y_train[:,10304] \n",
    "X_train=y_train[:,0:10304]\n",
    "X_test=np.asarray(x_test) \n",
    "print(Y_train)\n",
    "print(X_train)\n",
    "print(X_test)"
   ]
  },
  {
   "cell_type": "code",
   "execution_count": 6,
   "metadata": {},
   "outputs": [],
   "source": [
    "  \n",
    "mean=[]\n",
    "for i in range(10):\n",
    "    m=y_train[i*6:i*6+6,0:10304]\n",
    "    for j in range(10304):\n",
    "         mean.append(np.mean(m[:,j]))\n",
    "         \n",
    "mean=np.reshape(np.asarray(mean),(10,10304))    \n",
    " \n",
    "\n",
    "\n",
    "V=[]\n",
    "for i in range(len(X_test)):\n",
    "    X=X_test[i,:]\n",
    "    distance=[]\n",
    "    for j in range(10):\n",
    "        m=mean[j,:]\n",
    "        d=euclidean_distances([m], [X])\n",
    "        distance.append(d)\n",
    "        \n",
    "    v=1+dist.index(min(dist))\n",
    "    V.append(v)"
   ]
  },
  {
   "cell_type": "code",
   "execution_count": 7,
   "metadata": {},
   "outputs": [
    {
     "name": "stdout",
     "output_type": "stream",
     "text": [
      "Accuracy in the case of correlation is is  9.090909090909092 %\n"
     ]
    }
   ],
   "source": [
    "Y_test=np.asarray([1,3,3,3,4,4,4,4,5,5,5,1,5,6,6,6,6,7,7,7,7,8,1,8,8,8,9,9,9,9,10,10,10,1,10,0,0,0,0,2,2,2,2,3])\n",
    "\n",
    "print(\"Accuracy in the case of correlation is is \",accuracy_score(Y_test, V)*100,'%')\n",
    "\n"
   ]
  },
  {
   "cell_type": "code",
   "execution_count": null,
   "metadata": {},
   "outputs": [],
   "source": []
  }
 ],
 "metadata": {
  "kernelspec": {
   "display_name": "Python 3",
   "language": "python",
   "name": "python3"
  },
  "language_info": {
   "codemirror_mode": {
    "name": "ipython",
    "version": 3
   },
   "file_extension": ".py",
   "mimetype": "text/x-python",
   "name": "python",
   "nbconvert_exporter": "python",
   "pygments_lexer": "ipython3",
   "version": "3.7.6"
  }
 },
 "nbformat": 4,
 "nbformat_minor": 4
}
